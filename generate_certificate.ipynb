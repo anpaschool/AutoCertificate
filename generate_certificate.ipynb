{
 "cells": [
  {
   "cell_type": "code",
   "execution_count": 1,
   "id": "sharp-complaint",
   "metadata": {},
   "outputs": [],
   "source": [
    "#https://medium.com/analytics-vidhya/generate-certificates-using-python-a7685985ed77\n",
    "#https://docs.google.com/presentation/d/1oF2EE9ZYOLW-U4gBF9PrWosjA-Iza6I2/edit#slide=id.g10fe440eedb_0_0\n",
    "#https://itnext.io/how-to-wrap-text-on-image-using-python-8f569860f89e"
   ]
  },
  {
   "cell_type": "code",
   "execution_count": 2,
   "id": "oriented-closer",
   "metadata": {},
   "outputs": [],
   "source": [
    "from PIL import Image, ImageDraw, ImageFont\n",
    "import pandas as pd\n",
    "import matplotlib.font_manager as fm"
   ]
  },
  {
   "cell_type": "code",
   "execution_count": 3,
   "id": "violent-photographer",
   "metadata": {},
   "outputs": [],
   "source": [
    "name_list=[\"Futta Bahadur Fuyal\", \"Dr. Upendra Prasad Upiya\", \"Ram Bo\", \"Chatur Laaure Budo\"]"
   ]
  },
  {
   "cell_type": "markdown",
   "id": "orange-perry",
   "metadata": {},
   "source": [
    "## Checking here"
   ]
  },
  {
   "cell_type": "code",
   "execution_count": 4,
   "id": "described-difficulty",
   "metadata": {},
   "outputs": [],
   "source": [
    "dummy_list = 'Dummy Certificator'\n",
    "im = Image.open(\"capture.png\")"
   ]
  },
  {
   "cell_type": "code",
   "execution_count": 5,
   "id": "according-dispute",
   "metadata": {},
   "outputs": [],
   "source": [
    "#Now start drawing on Image\n",
    "d = ImageDraw.Draw(im)"
   ]
  },
  {
   "cell_type": "code",
   "execution_count": 6,
   "id": "developing-examination",
   "metadata": {},
   "outputs": [],
   "source": [
    "# Specify location for name\n",
    "location = [355, 345]\n",
    "text_color = (128, 0, 0)\n",
    "font = ImageFont.truetype('tahoma.ttf',38)\n",
    "d.text(location, dummy_list, fill=text_color,font=font)"
   ]
  },
  {
   "cell_type": "code",
   "execution_count": 7,
   "id": "humanitarian-portal",
   "metadata": {},
   "outputs": [],
   "source": [
    "#Specify location for Title\n",
    "#title=\"Study of something that is nothing because something happens\"\n",
    "title=\"Study of something that is nothing because something is nothing however that is not the case all the time because shit happens\""
   ]
  },
  {
   "cell_type": "code",
   "execution_count": 8,
   "id": "connected-panama",
   "metadata": {},
   "outputs": [
    {
     "data": {
      "text/plain": [
       "(126, 'Study of something that is nothing because something is')"
      ]
     },
     "execution_count": 8,
     "metadata": {},
     "output_type": "execute_result"
    }
   ],
   "source": [
    "len(title), title[:55]"
   ]
  },
  {
   "cell_type": "code",
   "execution_count": 9,
   "id": "pursuant-fleece",
   "metadata": {},
   "outputs": [],
   "source": [
    "word=title.split(' ')"
   ]
  },
  {
   "cell_type": "code",
   "execution_count": 10,
   "id": "organizational-programmer",
   "metadata": {},
   "outputs": [],
   "source": [
    "empty=[]\n",
    "empty2=[]\n",
    "sum=0\n",
    "for i in word:\n",
    "    sum = sum + len(i)\n",
    "    if sum <=55:\n",
    "        empty.append(i)\n",
    "    else:\n",
    "        empty2.append(i)"
   ]
  },
  {
   "cell_type": "code",
   "execution_count": 11,
   "id": "varying-omaha",
   "metadata": {},
   "outputs": [],
   "source": [
    "line1=' '.join(empty)\n",
    "line2=' '.join(empty2)"
   ]
  },
  {
   "cell_type": "code",
   "execution_count": 12,
   "id": "bibliographic-sweet",
   "metadata": {},
   "outputs": [],
   "source": [
    "len(line2)\n",
    "font2 = ImageFont.truetype('tahoma.ttf',25)"
   ]
  },
  {
   "cell_type": "code",
   "execution_count": 13,
   "id": "pressing-stable",
   "metadata": {},
   "outputs": [],
   "source": [
    "if len(line2)==0:\n",
    "    location2 = [132, 455]\n",
    "    d.text(location2, line1, fill=text_color,font=font2)\n",
    "else:\n",
    "    location2 = [132, 440]\n",
    "    location3 = [132, 470]\n",
    "    d.text(location2, line1, fill=text_color,font=font2)\n",
    "    d.text(location3, line2, fill=text_color,font=font2)"
   ]
  },
  {
   "cell_type": "code",
   "execution_count": 14,
   "id": "medieval-cooking",
   "metadata": {},
   "outputs": [],
   "source": [
    "im.save('certificate_' + dummy_list + '.png')"
   ]
  }
 ],
 "metadata": {
  "kernelspec": {
   "display_name": "Python 3",
   "language": "python",
   "name": "python3"
  },
  "language_info": {
   "codemirror_mode": {
    "name": "ipython",
    "version": 3
   },
   "file_extension": ".py",
   "mimetype": "text/x-python",
   "name": "python",
   "nbconvert_exporter": "python",
   "pygments_lexer": "ipython3",
   "version": "3.7.6"
  }
 },
 "nbformat": 4,
 "nbformat_minor": 5
}
