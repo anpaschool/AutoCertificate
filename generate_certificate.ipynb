{
 "cells": [
  {
   "cell_type": "code",
   "execution_count": null,
   "id": "sharp-complaint",
   "metadata": {},
   "outputs": [],
   "source": [
    "#https://medium.com/analytics-vidhya/generate-certificates-using-python-a7685985ed77\n",
    "#https://docs.google.com/presentation/d/1oF2EE9ZYOLW-U4gBF9PrWosjA-Iza6I2/edit#slide=id.g10fe440eedb_0_0\n",
    "#https://itnext.io/how-to-wrap-text-on-image-using-python-8f569860f89e"
   ]
  },
  {
   "cell_type": "code",
   "execution_count": 7,
   "id": "oriented-closer",
   "metadata": {},
   "outputs": [],
   "source": [
    "from PIL import Image, ImageDraw, ImageFont\n",
    "import pandas as pd\n",
    "import matplotlib.font_manager as fm\n",
    "import matplotlib\n",
    "import pylab as plt\n",
    "import os"
   ]
  },
  {
   "cell_type": "markdown",
   "id": "orange-perry",
   "metadata": {},
   "source": [
    "## Checking here"
   ]
  },
  {
   "cell_type": "code",
   "execution_count": null,
   "id": "described-difficulty",
   "metadata": {},
   "outputs": [],
   "source": [
    "#Open blank image\n",
    "im = Image.open(\"./blank.jpg\")\n",
    "#Now start drawing on Image\n",
    "d = ImageDraw.Draw(im)\n",
    "font = ImageFont.truetype('tahoma.ttf',38)\n",
    "font2 = ImageFont.truetype('tahoma.ttf',20)"
   ]
  },
  {
   "cell_type": "code",
   "execution_count": null,
   "id": "developing-examination",
   "metadata": {},
   "outputs": [],
   "source": [
    "# # Specify location for name\n",
    "# location = [315, 320]\n",
    "# text_color = (128, 0, 0)\n",
    "# font = ImageFont.truetype('tahoma.ttf',38)\n",
    "# d.text(location, dummy_list, fill=text_color,font=font)"
   ]
  },
  {
   "cell_type": "code",
   "execution_count": null,
   "id": "humanitarian-portal",
   "metadata": {},
   "outputs": [],
   "source": [
    "# #Specify location for Title\n",
    "# #title=\"Study of something that is nothing because something happens\"\n",
    "# title=\"Study of something that is nothing because something is nothing however that is not the case all the time because shit happens\""
   ]
  },
  {
   "cell_type": "code",
   "execution_count": null,
   "id": "pursuant-fleece",
   "metadata": {},
   "outputs": [],
   "source": [
    "#word=title.split(' ')"
   ]
  },
  {
   "cell_type": "code",
   "execution_count": null,
   "id": "organizational-programmer",
   "metadata": {},
   "outputs": [],
   "source": [
    "# empty=[]\n",
    "# empty2=[]\n",
    "# sum=0\n",
    "# for i in word:\n",
    "#     sum = sum + len(i)\n",
    "#     if sum <=65:\n",
    "#         empty.append(i)\n",
    "#     else:\n",
    "#         empty2.append(i)"
   ]
  },
  {
   "cell_type": "code",
   "execution_count": null,
   "id": "varying-omaha",
   "metadata": {},
   "outputs": [],
   "source": [
    "# line1=' '.join(empty)\n",
    "# line2=' '.join(empty2)"
   ]
  },
  {
   "cell_type": "code",
   "execution_count": null,
   "id": "bibliographic-sweet",
   "metadata": {},
   "outputs": [],
   "source": []
  },
  {
   "cell_type": "code",
   "execution_count": null,
   "id": "pressing-stable",
   "metadata": {},
   "outputs": [],
   "source": [
    "# if len(line2)==0:\n",
    "#     location2 = [125, 420]\n",
    "#     d.text(location2, line1, fill=text_color,font=font2)\n",
    "# else:\n",
    "#     location2 = [125, 405]\n",
    "#     location3 = [125, 435]\n",
    "#     d.text(location2, line1, fill=text_color,font=font2)\n",
    "#     d.text(location3, line2, fill=text_color,font=font2)"
   ]
  },
  {
   "cell_type": "code",
   "execution_count": null,
   "id": "micro-trial",
   "metadata": {},
   "outputs": [],
   "source": [
    "# import os\n",
    "# !dir"
   ]
  },
  {
   "cell_type": "code",
   "execution_count": null,
   "id": "indian-arrangement",
   "metadata": {},
   "outputs": [],
   "source": [
    "#path_to_save = \"C:\\\\Users\\\\plasm\\\\Downloads\\\\AutoCertificate-main\\\\AutoCertificate-main\\\\certificates\\\\\"\n",
    "path_to_save = \"./\""
   ]
  },
  {
   "cell_type": "code",
   "execution_count": null,
   "id": "medieval-cooking",
   "metadata": {},
   "outputs": [],
   "source": [
    "# im.save('certificate_' + dummy_list + '.png')"
   ]
  },
  {
   "cell_type": "code",
   "execution_count": null,
   "id": "18609069",
   "metadata": {},
   "outputs": [],
   "source": [
    "name, title = \"abc\", \"def\""
   ]
  },
  {
   "cell_type": "code",
   "execution_count": null,
   "id": "3ced370f",
   "metadata": {},
   "outputs": [],
   "source": [
    "im = Image.open(\"./blank.jpg\")\n",
    "d = ImageDraw.Draw(im)"
   ]
  },
  {
   "cell_type": "code",
   "execution_count": null,
   "id": "b0e799e6",
   "metadata": {},
   "outputs": [],
   "source": [
    "location = [860, 320]; \n",
    "text_color = (128, 0, 0)\n",
    "\n",
    "font = ImageFont.truetype('tahoma.ttf',38)\n",
    "d.text(location, name, fill=text_color,font=font)\n"
   ]
  },
  {
   "cell_type": "code",
   "execution_count": null,
   "id": "31409171",
   "metadata": {},
   "outputs": [],
   "source": [
    "name = \"Mr Ganesh Kumar Paudel\"\n",
    "title = \"abc_cddasdsa daskljadsdklajs_daskljadl nesh Kumar Paudel\"*2\n",
    "\n",
    "im = Image.open(\"./blank.jpg\")\n",
    "d = ImageDraw.Draw(im)\n",
    "\n",
    "text_color = (128, 0, 0)\n",
    "# Specify location for name\n",
    "\n",
    "size = im.size\n",
    "dim = (size[0])//2\n",
    "\n",
    "name_len_pix = font.getmask(name).getbbox()[2]\n",
    "location_name = [dim - name_len_pix/2, 320]\n",
    "\n",
    "font = ImageFont.truetype('tahoma.ttf',38)\n",
    "d.text(location_name, name, fill=text_color,font=font)\n",
    "## Split title to multiple lines if required"
   ]
  },
  {
   "cell_type": "code",
   "execution_count": null,
   "id": "88eade4a",
   "metadata": {},
   "outputs": [],
   "source": [
    "title = \"abc_cddasdsa daskljadsdklajs_daskljadl nesh Kumar Paudel\"#*2\n",
    "tsp = title.split()\n",
    "\n",
    "line1 = ''\n",
    "line2 = ''\n",
    "for i, t in enumerate(tsp):\n",
    "    line1_tmp = line1+\" \"+t\n",
    "    \n",
    "    line1_pix_tmp = font.getmask(line1_tmp).getbbox()[2]\n",
    "    \n",
    "    if line1_pix_tmp < 960:\n",
    "        line1 = line1_tmp\n",
    "    else:\n",
    "        line2 = ''.join(tsp[i:])\n",
    "        break\n",
    "        \n",
    "print (line1, line2)"
   ]
  },
  {
   "cell_type": "code",
   "execution_count": null,
   "id": "bdfa5a58",
   "metadata": {},
   "outputs": [],
   "source": [
    "if len(line2)==0:\n",
    "    \n",
    "    line1_pix = font.getmask(line1).getbbox()[2]\n",
    "        \n",
    "    print (f\"line1_pix = {line1_pix}\")\n",
    "    #location2 = [125, 420]\n",
    "    location2 = [2*dim - line1_pix/2, 420]\n",
    "    d.text(location2, line1, fill=text_color,font=font2)\n",
    "else:\n",
    "    #location2 = [135, 400]\n",
    "    #location3 = [135, 430]\n",
    "    line1_pix = font.getmask(line1).getbbox()[2]\n",
    "    line2_pix = font.getmask(line2).getbbox()[2]\n",
    "    \n",
    "    print (f\"line1_pix = {line1_pix}\")\n",
    "    print (f\"line2_pix = {line2_pix}\")\n",
    "    print (f\"dim = {dim}\")\n",
    "    loc2 = dim - line1_pix/4\n",
    "    loc3 = dim - line2_pix/4\n",
    "    location2 = [loc2 , 410]\n",
    "    location3 = [loc3 , 440]\n",
    "    \n",
    "    print (loc2, loc3)\n",
    "    d.text(location2, line1, fill=text_color,font=font2)\n",
    "    d.text(location3, line2, fill=text_color,font=font2)\n",
    "plt.imshow(im)"
   ]
  },
  {
   "cell_type": "code",
   "execution_count": null,
   "id": "cd420b34",
   "metadata": {},
   "outputs": [],
   "source": []
  },
  {
   "cell_type": "code",
   "execution_count": null,
   "id": "02e044d6",
   "metadata": {},
   "outputs": [],
   "source": [
    "word=title.split(' ')\n",
    "empty=[]\n",
    "empty2=[]\n",
    "sum=0\n",
    "for i in word:\n",
    "    sum = sum + len(i)\n",
    "    if sum <=70:\n",
    "        empty.append(i)\n",
    "    else:\n",
    "        empty2.append(i)\n",
    "\n",
    "line1=' '.join(empty)\n",
    "line2=' '.join(empty2)\n",
    "font2 = ImageFont.truetype('tahoma.ttf',21)\n",
    "if len(line2)==0:\n",
    "    \n",
    "    line1_pix = font.getmask(line1).getbbox()[2]\n",
    "        \n",
    "    print (f\"line1_pix = {line1_pix}\")\n",
    "    #location2 = [125, 420]\n",
    "    location2 = [2*dim - line1_pix/2, 420]\n",
    "    d.text(location2, line1, fill=text_color,font=font2)\n",
    "else:\n",
    "    #location2 = [135, 400]\n",
    "    #location3 = [135, 430]\n",
    "    line2_pix = font.getmask(line2).getbbox()[2]\n",
    "    \n",
    "    print (f\"line1_pix = {line1_pix}\")\n",
    "    print (f\"line2_pix = {line2_pix}\")\n",
    "    print (f\"dim = {dim}\")\n",
    "    loc2 = dim - line1_pix/2\n",
    "    loc3 = dim - line2_pix/2\n",
    "    location2 = [loc2 , 400]\n",
    "    location3 = [loc3 , 430]\n",
    "    \n",
    "    print (loc2, loc3)\n",
    "    d.text(location2, line1, fill=text_color,font=font2)\n",
    "    d.text(location3, line2, fill=text_color,font=font2)\n",
    "plt.imshow(im)"
   ]
  },
  {
   "cell_type": "code",
   "execution_count": 44,
   "id": "519e06e2",
   "metadata": {},
   "outputs": [],
   "source": [
    "def create_certificate2(name,title):\n",
    "    \n",
    "    name = name.strip()\n",
    "    title = title.strip()\n",
    "    \n",
    "    path_to_save = \"./certs\"\n",
    "    font = ImageFont.truetype('tahoma.ttf',38)\n",
    "    font2 = ImageFont.truetype('tahoma.ttf',20)\n",
    "    \n",
    "    im = Image.open(\"./blank.jpg\")\n",
    "    d = ImageDraw.Draw(im)\n",
    "\n",
    "    text_color = (128, 0, 0)\n",
    "    # Specify location for name\n",
    "\n",
    "    size = im.size\n",
    "    dim = (size[0])//2\n",
    "\n",
    "    name_len_pix = font.getmask(name).getbbox()[2]\n",
    "    location_name = [dim - name_len_pix/2, 320]\n",
    "\n",
    "    d.text(location_name, name, fill=text_color,font=font)\n",
    "    ## Split title to multiple lines if required\n",
    "\n",
    "    tsp = title.split()\n",
    "\n",
    "    line1 = ''\n",
    "    line2 = ''\n",
    "    for i, t in enumerate(tsp):\n",
    "        line1_tmp = line1+\" \"+t\n",
    "\n",
    "        line1_pix_tmp = font2.getmask(line1_tmp).getbbox()[2]\n",
    "\n",
    "        if line1_pix_tmp < 740:\n",
    "            line1 = line1_tmp\n",
    "        else:\n",
    "            line2 = ''.join(tsp[i:])\n",
    "            break\n",
    "\n",
    "\n",
    "    if len(line2)==0:\n",
    "        line1_pix = font.getmask(line1).getbbox()[2]\n",
    "        #location2 = [125, 420]\n",
    "        location2 = [dim - line1_pix/4, 420]\n",
    "        d.text(location2, line1, fill=text_color,font=font2)\n",
    "    else:\n",
    "        #location2 = [135, 400]\n",
    "        #location3 = [135, 430]\n",
    "        line1_pix = font.getmask(line1).getbbox()[2]\n",
    "        line2_pix = font.getmask(line2).getbbox()[2]\n",
    "\n",
    "        loc2 = dim - line1_pix/4\n",
    "        loc3 = dim - line2_pix/4\n",
    "        location2 = [loc2 , 410]\n",
    "        location3 = [loc3 , 440]\n",
    "\n",
    "        d.text(location2, line1, fill=text_color,font=font2)\n",
    "        d.text(location3, line2, fill=text_color,font=font2)\n",
    "\n",
    "    #savename = path_to_save + 'certificate2_' + name + '.png'\n",
    "    \n",
    "    savename = os.path.join(path_to_save, \"certificate_\"+name+\".png\")\n",
    "    im.save(savename) \n",
    "    #print (savename, \"saved.\")    \n",
    "    "
   ]
  },
  {
   "cell_type": "code",
   "execution_count": 42,
   "id": "294b89d4",
   "metadata": {},
   "outputs": [
    {
     "name": "stdout",
     "output_type": "stream",
     "text": [
      "./certs/certificate_Ashok Timsina.png saved.\n"
     ]
    },
    {
     "data": {
      "text/plain": [
       "<matplotlib.image.AxesImage at 0x121432d30>"
      ]
     },
     "execution_count": 42,
     "metadata": {},
     "output_type": "execute_result"
    },
    {
     "data": {
      "image/png": "[encoded data removed]",
      "text/plain": [
       "<Figure size 432x288 with 1 Axes>"
      ]
     },
     "metadata": {
      "needs_background": "light"
     },
     "output_type": "display_data"
    }
   ],
   "source": [
    "#name = \"Mr Ganesh Kumar Paudel\"\n",
    "#title = \"abc_cddasdsa daskljadsdklajs_daskljadl nesh Kumar Paudel\"#*2\n",
    "\n",
    "name ='Ashok Timsina'\n",
    "title = 'Cell charging effect and the binding energy measurement of ions on a plastic surface in cryogenic liquids. '\n",
    "\n",
    "create_certificate2(name, title)\n",
    "    \n",
    "path_to_save = \"./certs\"\n",
    "savename = os.path.join(path_to_save, \"certificate_\"+name+\".png\")\n",
    "\n",
    "\n",
    "im = Image.open(savename)\n",
    "plt.imshow(im)"
   ]
  },
  {
   "cell_type": "code",
   "execution_count": null,
   "id": "6b7608ce",
   "metadata": {},
   "outputs": [],
   "source": []
  },
  {
   "cell_type": "code",
   "execution_count": 43,
   "id": "english-iraqi",
   "metadata": {},
   "outputs": [],
   "source": [
    "def create_certificate(name,title):\n",
    "    im = Image.open(\"./blank.jpg\")\n",
    "    d = ImageDraw.Draw(im)\n",
    "    # Specify location for name\n",
    "\n",
    "    #size = im.size\n",
    "\n",
    "    location = [(size[0]-50)//2, 320]\n",
    "    text_color = (128, 0, 0)\n",
    "    font = ImageFont.truetype('tahoma.ttf',38)\n",
    "    d.text(location, name, fill=text_color,font=font)\n",
    "    ## Split title to multiple lines if required\n",
    "    word=title.split(' ')\n",
    "    empty=[]\n",
    "    empty2=[]\n",
    "    sum=0\n",
    "    for i in word:\n",
    "        sum = sum + len(i)\n",
    "        if sum <=55:\n",
    "            empty.append(i)\n",
    "        else:\n",
    "            empty2.append(i)\n",
    "\n",
    "    line1=' '.join(empty)\n",
    "    line2=' '.join(empty2)\n",
    "    font2 = ImageFont.truetype('tahoma.ttf',21)\n",
    "    if len(line2)==0:\n",
    "        location2 = [125, 420]\n",
    "        d.text(location2, line1, fill=text_color,font=font2)\n",
    "    else:\n",
    "        location2 = [135, 400]\n",
    "        location3 = [135, 430]\n",
    "        d.text(location2, line1, fill=text_color,font=font2)\n",
    "        d.text(location3, line2, fill=text_color,font=font2)\n",
    "    return im.save(path_to_save + 'certificate2_' + name + '.png') "
   ]
  },
  {
   "cell_type": "code",
   "execution_count": null,
   "id": "de38e00c",
   "metadata": {},
   "outputs": [],
   "source": [
    "%matplotlib inline\n",
    "name = \"abc_cddasdsa_daskljadsdklajs_daskljads_prasad_paudel\"\n",
    "create_certificate(name, \"def\")\n",
    "\n",
    "imo = Image.open(\"certificate2_\"+name+\".png\")\n",
    "plt.imshow(imo)"
   ]
  },
  {
   "cell_type": "code",
   "execution_count": null,
   "id": "11b588d7",
   "metadata": {},
   "outputs": [],
   "source": []
  },
  {
   "cell_type": "code",
   "execution_count": null,
   "id": "80326795",
   "metadata": {},
   "outputs": [],
   "source": []
  },
  {
   "cell_type": "code",
   "execution_count": null,
   "id": "735a497b",
   "metadata": {},
   "outputs": [],
   "source": []
  },
  {
   "cell_type": "code",
   "execution_count": 23,
   "id": "bored-affiliate",
   "metadata": {},
   "outputs": [],
   "source": [
    "df = pd.read_csv('schedule-2022_SB_PD.csv')"
   ]
  },
  {
   "cell_type": "code",
   "execution_count": 24,
   "id": "liberal-director",
   "metadata": {},
   "outputs": [
    {
     "data": {
      "text/plain": [
       "Index(['Date', 'Session', 'StartDate', 'StartTime', 'EndDate', 'EndTime',\n",
       "       'Invited', 'Presenter', 'Presenter's Affiliation', 'In-Person/Remote',\n",
       "       'Coauthors', 'Coauthors affiliation', 'Paper Title', 'Abstract'],\n",
       "      dtype='object')"
      ]
     },
     "execution_count": 24,
     "metadata": {},
     "output_type": "execute_result"
    }
   ],
   "source": [
    "df.columns"
   ]
  },
  {
   "cell_type": "code",
   "execution_count": 25,
   "id": "functional-empty",
   "metadata": {},
   "outputs": [
    {
     "data": {
      "text/html": [
       "<div>\n",
       "<style scoped>\n",
       "    .dataframe tbody tr th:only-of-type {\n",
       "        vertical-align: middle;\n",
       "    }\n",
       "\n",
       "    .dataframe tbody tr th {\n",
       "        vertical-align: top;\n",
       "    }\n",
       "\n",
       "    .dataframe thead th {\n",
       "        text-align: right;\n",
       "    }\n",
       "</style>\n",
       "<table border=\"1\" class=\"dataframe\">\n",
       "  <thead>\n",
       "    <tr style=\"text-align: right;\">\n",
       "      <th></th>\n",
       "      <th>Presenter</th>\n",
       "      <th>Paper Title</th>\n",
       "    </tr>\n",
       "  </thead>\n",
       "  <tbody>\n",
       "    <tr>\n",
       "      <th>0</th>\n",
       "      <td>Christopher Fischer</td>\n",
       "      <td>Helping traditionally under-served populations...</td>\n",
       "    </tr>\n",
       "    <tr>\n",
       "      <th>1</th>\n",
       "      <td>Arbin Thapaliya</td>\n",
       "      <td>Teaching ultrasound to undergraduates using pr...</td>\n",
       "    </tr>\n",
       "    <tr>\n",
       "      <th>2</th>\n",
       "      <td>Puskar Chapgain</td>\n",
       "      <td>Does Peer-Assisted Instruction for University ...</td>\n",
       "    </tr>\n",
       "    <tr>\n",
       "      <th>3</th>\n",
       "      <td>Simon Rees</td>\n",
       "      <td>Supplementing the Learning of Physics with the...</td>\n",
       "    </tr>\n",
       "    <tr>\n",
       "      <th>4</th>\n",
       "      <td>Anna Mederer</td>\n",
       "      <td>Scaffolding Writing in Physics Labs</td>\n",
       "    </tr>\n",
       "  </tbody>\n",
       "</table>\n",
       "</div>"
      ],
      "text/plain": [
       "             Presenter                                        Paper Title\n",
       "0  Christopher Fischer  Helping traditionally under-served populations...\n",
       "1      Arbin Thapaliya  Teaching ultrasound to undergraduates using pr...\n",
       "2      Puskar Chapgain  Does Peer-Assisted Instruction for University ...\n",
       "3           Simon Rees  Supplementing the Learning of Physics with the...\n",
       "4         Anna Mederer                Scaffolding Writing in Physics Labs"
      ]
     },
     "execution_count": 25,
     "metadata": {},
     "output_type": "execute_result"
    }
   ],
   "source": [
    "df = df[['Presenter','Paper Title']]\n",
    "df.head()"
   ]
  },
  {
   "cell_type": "code",
   "execution_count": 35,
   "id": "29ba46f8",
   "metadata": {},
   "outputs": [
    {
     "data": {
      "text/plain": [
       "('Ashok Timsina',\n",
       " 'Cell charging effect and the binding energy measurement of ions on a plastic surface in cryogenic liquids. ')"
      ]
     },
     "execution_count": 35,
     "metadata": {},
     "output_type": "execute_result"
    }
   ],
   "source": [
    "name = df[df.Presenter==\"Ashok Timsina\"].Presenter.values[0]\n",
    "title = df[df.Presenter==\"Ashok Timsina\"][\"Paper Title\"].values[0]\n",
    "name, title"
   ]
  },
  {
   "cell_type": "code",
   "execution_count": 26,
   "id": "13769dee",
   "metadata": {},
   "outputs": [
    {
     "data": {
      "text/plain": [
       "(73, 2)"
      ]
     },
     "execution_count": 26,
     "metadata": {},
     "output_type": "execute_result"
    }
   ],
   "source": [
    "df.shape"
   ]
  },
  {
   "cell_type": "code",
   "execution_count": 45,
   "id": "convinced-latin",
   "metadata": {
    "scrolled": false
   },
   "outputs": [],
   "source": [
    "for i,rows in df.iterrows():\n",
    "    #print (rows['Presenter'],rows['Paper Title'])\n",
    "    create_certificate2(rows['Presenter'],rows['Paper Title'])"
   ]
  },
  {
   "cell_type": "code",
   "execution_count": null,
   "id": "collect-career",
   "metadata": {},
   "outputs": [],
   "source": []
  }
 ],
 "metadata": {
  "kernelspec": {
   "display_name": "Python 3",
   "language": "python",
   "name": "python3"
  },
  "language_info": {
   "codemirror_mode": {
    "name": "ipython",
    "version": 3
   },
   "file_extension": ".py",
   "mimetype": "text/x-python",
   "name": "python",
   "nbconvert_exporter": "python",
   "pygments_lexer": "ipython3",
   "version": "3.9.10"
  }
 },
 "nbformat": 4,
 "nbformat_minor": 5
}
