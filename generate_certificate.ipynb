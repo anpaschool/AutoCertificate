{
 "cells": [
  {
   "cell_type": "code",
   "execution_count": 1,
   "id": "sharp-complaint",
   "metadata": {},
   "outputs": [],
   "source": [
    "#https://medium.com/analytics-vidhya/generate-certificates-using-python-a7685985ed77\n",
    "#https://docs.google.com/presentation/d/1oF2EE9ZYOLW-U4gBF9PrWosjA-Iza6I2/edit#slide=id.g10fe440eedb_0_0\n",
    "#https://itnext.io/how-to-wrap-text-on-image-using-python-8f569860f89e"
   ]
  },
  {
   "cell_type": "code",
   "execution_count": 2,
   "id": "oriented-closer",
   "metadata": {},
   "outputs": [],
   "source": [
    "from PIL import Image, ImageDraw, ImageFont\n",
    "import pandas as pd\n",
    "import matplotlib.font_manager as fm"
   ]
  },
  {
   "cell_type": "markdown",
   "id": "orange-perry",
   "metadata": {},
   "source": [
    "## Checking here"
   ]
  },
  {
   "cell_type": "code",
   "execution_count": 3,
   "id": "described-difficulty",
   "metadata": {},
   "outputs": [],
   "source": [
    "#Open blank image\n",
    "im = Image.open(\"./../blank.jpg\")\n",
    "#Now start drawing on Image\n",
    "d = ImageDraw.Draw(im)\n",
    "font = ImageFont.truetype('tahoma.ttf',38)\n",
    "font2 = ImageFont.truetype('tahoma.ttf',20)"
   ]
  },
  {
   "cell_type": "code",
   "execution_count": 4,
   "id": "developing-examination",
   "metadata": {},
   "outputs": [],
   "source": [
    "# # Specify location for name\n",
    "# location = [315, 320]\n",
    "# text_color = (128, 0, 0)\n",
    "# font = ImageFont.truetype('tahoma.ttf',38)\n",
    "# d.text(location, dummy_list, fill=text_color,font=font)"
   ]
  },
  {
   "cell_type": "code",
   "execution_count": 5,
   "id": "humanitarian-portal",
   "metadata": {},
   "outputs": [],
   "source": [
    "# #Specify location for Title\n",
    "# #title=\"Study of something that is nothing because something happens\"\n",
    "# title=\"Study of something that is nothing because something is nothing however that is not the case all the time because shit happens\""
   ]
  },
  {
   "cell_type": "code",
   "execution_count": 6,
   "id": "pursuant-fleece",
   "metadata": {},
   "outputs": [],
   "source": [
    "#word=title.split(' ')"
   ]
  },
  {
   "cell_type": "code",
   "execution_count": 7,
   "id": "organizational-programmer",
   "metadata": {},
   "outputs": [],
   "source": [
    "# empty=[]\n",
    "# empty2=[]\n",
    "# sum=0\n",
    "# for i in word:\n",
    "#     sum = sum + len(i)\n",
    "#     if sum <=65:\n",
    "#         empty.append(i)\n",
    "#     else:\n",
    "#         empty2.append(i)"
   ]
  },
  {
   "cell_type": "code",
   "execution_count": 8,
   "id": "varying-omaha",
   "metadata": {},
   "outputs": [],
   "source": [
    "# line1=' '.join(empty)\n",
    "# line2=' '.join(empty2)"
   ]
  },
  {
   "cell_type": "code",
   "execution_count": null,
   "id": "bibliographic-sweet",
   "metadata": {},
   "outputs": [],
   "source": []
  },
  {
   "cell_type": "code",
   "execution_count": 9,
   "id": "pressing-stable",
   "metadata": {},
   "outputs": [],
   "source": [
    "# if len(line2)==0:\n",
    "#     location2 = [125, 420]\n",
    "#     d.text(location2, line1, fill=text_color,font=font2)\n",
    "# else:\n",
    "#     location2 = [125, 405]\n",
    "#     location3 = [125, 435]\n",
    "#     d.text(location2, line1, fill=text_color,font=font2)\n",
    "#     d.text(location3, line2, fill=text_color,font=font2)"
   ]
  },
  {
   "cell_type": "code",
   "execution_count": 10,
   "id": "micro-trial",
   "metadata": {},
   "outputs": [],
   "source": [
    "# import os\n",
    "# !dir"
   ]
  },
  {
   "cell_type": "code",
   "execution_count": 11,
   "id": "indian-arrangement",
   "metadata": {},
   "outputs": [],
   "source": [
    "path_to_save = \"C:\\\\Users\\\\plasm\\\\Downloads\\\\AutoCertificate-main\\\\AutoCertificate-main\\\\certificates\\\\\""
   ]
  },
  {
   "cell_type": "code",
   "execution_count": 12,
   "id": "medieval-cooking",
   "metadata": {},
   "outputs": [],
   "source": [
    "# im.save('certificate_' + dummy_list + '.png')"
   ]
  },
  {
   "cell_type": "code",
   "execution_count": 13,
   "id": "english-iraqi",
   "metadata": {},
   "outputs": [],
   "source": [
    "def create_certificate(name,title):\n",
    "    im = Image.open(\"./../blank.jpg\")\n",
    "    d = ImageDraw.Draw(im)\n",
    "    # Specify location for name\n",
    "    location = [360, 320]\n",
    "    text_color = (128, 0, 0)\n",
    "    font = ImageFont.truetype('tahoma.ttf',38)\n",
    "    d.text(location, name, fill=text_color,font=font)\n",
    "    ## Split title to multiple lines if required\n",
    "    word=title.split(' ')\n",
    "    empty=[]\n",
    "    empty2=[]\n",
    "    sum=0\n",
    "    for i in word:\n",
    "        sum = sum + len(i)\n",
    "        if sum <=55:\n",
    "            empty.append(i)\n",
    "        else:\n",
    "            empty2.append(i)\n",
    "            \n",
    "    line1=' '.join(empty)\n",
    "    line2=' '.join(empty2)\n",
    "    font2 = ImageFont.truetype('tahoma.ttf',21)\n",
    "    if len(line2)==0:\n",
    "        location2 = [125, 420]\n",
    "        d.text(location2, line1, fill=text_color,font=font2)\n",
    "    else:\n",
    "        location2 = [135, 400]\n",
    "        location3 = [135, 430]\n",
    "        d.text(location2, line1, fill=text_color,font=font2)\n",
    "        d.text(location3, line2, fill=text_color,font=font2)\n",
    "    return im.save(path_to_save + 'certificate2_' + name + '.png') "
   ]
  },
  {
   "cell_type": "code",
   "execution_count": 14,
   "id": "bored-affiliate",
   "metadata": {},
   "outputs": [],
   "source": [
    "df = pd.read_csv('schedule-2022_SB_PD.csv')"
   ]
  },
  {
   "cell_type": "code",
   "execution_count": 15,
   "id": "liberal-director",
   "metadata": {},
   "outputs": [
    {
     "data": {
      "text/plain": [
       "Index(['Date', 'Session', 'StartDate', 'StartTime', 'EndDate', 'EndTime',\n",
       "       'Invited', 'Presenter', 'Presenter's Affiliation', 'In-Person/Remote',\n",
       "       'Coauthors', 'Coauthors affiliation', 'Paper Title', 'Abstract'],\n",
       "      dtype='object')"
      ]
     },
     "execution_count": 15,
     "metadata": {},
     "output_type": "execute_result"
    }
   ],
   "source": [
    "df.columns"
   ]
  },
  {
   "cell_type": "code",
   "execution_count": 16,
   "id": "functional-empty",
   "metadata": {},
   "outputs": [
    {
     "data": {
      "text/html": [
       "<div>\n",
       "<style scoped>\n",
       "    .dataframe tbody tr th:only-of-type {\n",
       "        vertical-align: middle;\n",
       "    }\n",
       "\n",
       "    .dataframe tbody tr th {\n",
       "        vertical-align: top;\n",
       "    }\n",
       "\n",
       "    .dataframe thead th {\n",
       "        text-align: right;\n",
       "    }\n",
       "</style>\n",
       "<table border=\"1\" class=\"dataframe\">\n",
       "  <thead>\n",
       "    <tr style=\"text-align: right;\">\n",
       "      <th></th>\n",
       "      <th>Presenter</th>\n",
       "      <th>Paper Title</th>\n",
       "    </tr>\n",
       "  </thead>\n",
       "  <tbody>\n",
       "    <tr>\n",
       "      <th>0</th>\n",
       "      <td>Christopher Fischer</td>\n",
       "      <td>Helping traditionally under-served populations...</td>\n",
       "    </tr>\n",
       "    <tr>\n",
       "      <th>1</th>\n",
       "      <td>Arbin Thapaliya</td>\n",
       "      <td>Teaching ultrasound to undergraduates using pr...</td>\n",
       "    </tr>\n",
       "    <tr>\n",
       "      <th>2</th>\n",
       "      <td>Puskar Chapgain</td>\n",
       "      <td>Does Peer-Assisted Instruction for University ...</td>\n",
       "    </tr>\n",
       "    <tr>\n",
       "      <th>3</th>\n",
       "      <td>Simon Rees</td>\n",
       "      <td>Supplementing the Learning of Physics with the...</td>\n",
       "    </tr>\n",
       "    <tr>\n",
       "      <th>4</th>\n",
       "      <td>Anna Mederer</td>\n",
       "      <td>Scaffolding Writing in Physics Labs</td>\n",
       "    </tr>\n",
       "  </tbody>\n",
       "</table>\n",
       "</div>"
      ],
      "text/plain": [
       "             Presenter                                        Paper Title\n",
       "0  Christopher Fischer  Helping traditionally under-served populations...\n",
       "1      Arbin Thapaliya  Teaching ultrasound to undergraduates using pr...\n",
       "2      Puskar Chapgain  Does Peer-Assisted Instruction for University ...\n",
       "3           Simon Rees  Supplementing the Learning of Physics with the...\n",
       "4         Anna Mederer                Scaffolding Writing in Physics Labs"
      ]
     },
     "execution_count": 16,
     "metadata": {},
     "output_type": "execute_result"
    }
   ],
   "source": [
    "df = df[['Presenter','Paper Title']]\n",
    "df.head()"
   ]
  },
  {
   "cell_type": "code",
   "execution_count": 17,
   "id": "convinced-latin",
   "metadata": {},
   "outputs": [],
   "source": [
    "for i,rows in df.iterrows():\n",
    "    #print (rows['Presenter'],rows['Paper Title'])\n",
    "    create_certificate(rows['Presenter'],rows['Paper Title'])"
   ]
  },
  {
   "cell_type": "code",
   "execution_count": null,
   "id": "collect-career",
   "metadata": {},
   "outputs": [],
   "source": []
  }
 ],
 "metadata": {
  "kernelspec": {
   "display_name": "Python 3",
   "language": "python",
   "name": "python3"
  },
  "language_info": {
   "codemirror_mode": {
    "name": "ipython",
    "version": 3
   },
   "file_extension": ".py",
   "mimetype": "text/x-python",
   "name": "python",
   "nbconvert_exporter": "python",
   "pygments_lexer": "ipython3",
   "version": "3.7.6"
  }
 },
 "nbformat": 4,
 "nbformat_minor": 5
}
